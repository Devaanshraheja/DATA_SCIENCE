{
 "cells": [
  {
   "cell_type": "code",
   "execution_count": 3,
   "id": "5320ca17-fd89-4d89-b34a-8f4e3c5c77a2",
   "metadata": {},
   "outputs": [],
   "source": [
    "a=\"910910\""
   ]
  },
  {
   "cell_type": "code",
   "execution_count": 7,
   "id": "ed7e85e9-7d78-43e5-96b8-3431fd3465db",
   "metadata": {},
   "outputs": [],
   "source": [
    "b=\"12234\"\n"
   ]
  },
  {
   "cell_type": "code",
   "execution_count": 13,
   "id": "e482f031-bf09-42d3-984b-777481940382",
   "metadata": {},
   "outputs": [
    {
     "data": {
      "text/plain": [
       "12234"
      ]
     },
     "execution_count": 13,
     "metadata": {},
     "output_type": "execute_result"
    }
   ],
   "source": [
    "int(a)\n",
    "int(b)"
   ]
  },
  {
   "cell_type": "code",
   "execution_count": 15,
   "id": "677bc2ea-05dc-41df-b50f-413d4207e514",
   "metadata": {},
   "outputs": [
    {
     "data": {
      "text/plain": [
       "'91091012234'"
      ]
     },
     "execution_count": 15,
     "metadata": {},
     "output_type": "execute_result"
    }
   ],
   "source": [
    "a+b\n"
   ]
  },
  {
   "cell_type": "code",
   "execution_count": 19,
   "id": "21e8cc87-025b-4dba-8d57-f53c7fb05bae",
   "metadata": {},
   "outputs": [
    {
     "data": {
      "text/plain": [
       "91091012234"
      ]
     },
     "execution_count": 19,
     "metadata": {},
     "output_type": "execute_result"
    }
   ],
   "source": [
    "int(a+b)"
   ]
  },
  {
   "cell_type": "code",
   "execution_count": 25,
   "id": "ecd10a0f-de51-4955-85b7-419b9fec9663",
   "metadata": {},
   "outputs": [],
   "source": [
    "name=\"Devaansh\""
   ]
  },
  {
   "cell_type": "code",
   "execution_count": 33,
   "id": "e88a8a12-4ce7-4199-8720-7d6b2a38f7d2",
   "metadata": {},
   "outputs": [
    {
     "data": {
      "text/plain": [
       "'Devaansh'"
      ]
     },
     "execution_count": 33,
     "metadata": {},
     "output_type": "execute_result"
    }
   ],
   "source": [
    "name.capitalize()\n",
    "\n",
    "\n"
   ]
  },
  {
   "cell_type": "code",
   "execution_count": 35,
   "id": "d382ca33-e255-4029-8005-d0e0ea5136c2",
   "metadata": {},
   "outputs": [
    {
     "name": "stdout",
     "output_type": "stream",
     "text": [
      "DEVAANSH\n"
     ]
    }
   ],
   "source": [
    "print(name.upper())\n"
   ]
  }
 ],
 "metadata": {
  "kernelspec": {
   "display_name": "Python 3 (ipykernel)",
   "language": "python",
   "name": "python3"
  },
  "language_info": {
   "codemirror_mode": {
    "name": "ipython",
    "version": 3
   },
   "file_extension": ".py",
   "mimetype": "text/x-python",
   "name": "python",
   "nbconvert_exporter": "python",
   "pygments_lexer": "ipython3",
   "version": "3.12.4"
  }
 },
 "nbformat": 4,
 "nbformat_minor": 5
}
