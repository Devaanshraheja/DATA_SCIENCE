{
 "cells": [
  {
   "cell_type": "code",
   "execution_count": 5,
   "id": "e0214e0a-eac0-4cd6-92bb-b6041e87a0b3",
   "metadata": {},
   "outputs": [],
   "source": [
    "def http_error(code):\n",
    "    match code:\n",
    "        case 200:\n",
    "            return (\"Technical Error Found \")\n",
    "        case 404:\n",
    "            return (\"Error found\")\n",
    "        case 303:\n",
    "            return (\"Segmentation Error\")\n",
    "        case __:\n",
    "            print(\"Invalid Input\")\n",
    "            \n",
    "    "
   ]
  },
  {
   "cell_type": "code",
   "execution_count": 49,
   "id": "e692232c-20da-4fe5-8bea-997f6d70a4d2",
   "metadata": {},
   "outputs": [
    {
     "name": "stdout",
     "output_type": "stream",
     "text": [
      "None\n"
     ]
    }
   ],
   "source": [
    "print(http_error(400000))"
   ]
  },
  {
   "cell_type": "code",
   "execution_count": null,
   "id": "9ffad3e2-4b9f-4e0d-a379-2e86970d57a4",
   "metadata": {},
   "outputs": [],
   "source": []
  }
 ],
 "metadata": {
  "kernelspec": {
   "display_name": "Python 3 (ipykernel)",
   "language": "python",
   "name": "python3"
  },
  "language_info": {
   "codemirror_mode": {
    "name": "ipython",
    "version": 3
   },
   "file_extension": ".py",
   "mimetype": "text/x-python",
   "name": "python",
   "nbconvert_exporter": "python",
   "pygments_lexer": "ipython3",
   "version": "3.12.4"
  }
 },
 "nbformat": 4,
 "nbformat_minor": 5
}
