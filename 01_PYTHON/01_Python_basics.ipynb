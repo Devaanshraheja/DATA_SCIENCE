{
 "cells": [
  {
   "cell_type": "code",
   "execution_count": 5,
   "id": "37b130d2-b383-48bc-b98d-0e037ae0067a",
   "metadata": {},
   "outputs": [],
   "source": [
    "a=6"
   ]
  },
  {
   "cell_type": "code",
   "execution_count": 7,
   "id": "b0e57465-57b2-4013-aa4b-a72062c2d721",
   "metadata": {},
   "outputs": [],
   "source": [
    "b=34"
   ]
  },
  {
   "cell_type": "code",
   "execution_count": 11,
   "id": "7acae266-ae77-4798-bc17-3aae6365a950",
   "metadata": {},
   "outputs": [
    {
     "data": {
      "text/plain": [
       "40"
      ]
     },
     "execution_count": 11,
     "metadata": {},
     "output_type": "execute_result"
    }
   ],
   "source": [
    "a+b"
   ]
  },
  {
   "cell_type": "code",
   "execution_count": 15,
   "id": "18ea4f1f-e2f1-4100-bbfa-d465d583177a",
   "metadata": {},
   "outputs": [
    {
     "name": "stdout",
     "output_type": "stream",
     "text": [
      "<class 'int'>\n"
     ]
    }
   ],
   "source": [
    "print(type(a))"
   ]
  },
  {
   "cell_type": "code",
   "execution_count": 19,
   "id": "5ea6ff3d-5f31-453e-bb91-26fa95aa7482",
   "metadata": {},
   "outputs": [],
   "source": [
    "a=\"12345\"\n"
   ]
  },
  {
   "cell_type": "code",
   "execution_count": 21,
   "id": "faa164a8-77c8-456d-be08-f0e54df867e8",
   "metadata": {},
   "outputs": [],
   "source": [
    "b=\"10234\""
   ]
  },
  {
   "cell_type": "code",
   "execution_count": 23,
   "id": "0c52229c-7259-4820-a307-aff037bd0ce1",
   "metadata": {},
   "outputs": [
    {
     "data": {
      "text/plain": [
       "'1234510234'"
      ]
     },
     "execution_count": 23,
     "metadata": {},
     "output_type": "execute_result"
    }
   ],
   "source": [
    "a+b"
   ]
  },
  {
   "cell_type": "code",
   "execution_count": 25,
   "id": "411ca242-481c-4932-b039-94edd607c67d",
   "metadata": {},
   "outputs": [
    {
     "data": {
      "text/plain": [
       "22579"
      ]
     },
     "execution_count": 25,
     "metadata": {},
     "output_type": "execute_result"
    }
   ],
   "source": [
    "int(a)+int (b)"
   ]
  },
  {
   "cell_type": "code",
   "execution_count": null,
   "id": "88107ecb-0562-4e56-b3f1-f7668be5b126",
   "metadata": {},
   "outputs": [],
   "source": []
  }
 ],
 "metadata": {
  "kernelspec": {
   "display_name": "Python 3 (ipykernel)",
   "language": "python",
   "name": "python3"
  },
  "language_info": {
   "codemirror_mode": {
    "name": "ipython",
    "version": 3
   },
   "file_extension": ".py",
   "mimetype": "text/x-python",
   "name": "python",
   "nbconvert_exporter": "python",
   "pygments_lexer": "ipython3",
   "version": "3.12.4"
  }
 },
 "nbformat": 4,
 "nbformat_minor": 5
}
