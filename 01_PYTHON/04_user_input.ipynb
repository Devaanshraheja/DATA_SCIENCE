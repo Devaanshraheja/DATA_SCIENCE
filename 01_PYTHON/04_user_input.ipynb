{
 "cells": [
  {
   "cell_type": "code",
   "execution_count": 1,
   "id": "4fd91209-526d-46c4-a998-802510464e8d",
   "metadata": {},
   "outputs": [
    {
     "name": "stdin",
     "output_type": "stream",
     "text": [
      "Enter the value of a 45\n"
     ]
    }
   ],
   "source": [
    "a=int(input(\"Enter the value of a\"))"
   ]
  },
  {
   "cell_type": "code",
   "execution_count": 15,
   "id": "560b61af-fc87-411e-a41c-450b35af02ab",
   "metadata": {},
   "outputs": [
    {
     "name": "stdout",
     "output_type": "stream",
     "text": [
      "hello Alisha\n"
     ]
    }
   ],
   "source": [
    "def greet(name=\"Alisha\"):# this is called default parameter\n",
    "    return f\"hello {name}\"\n",
    "print(greet())#\n",
    "    "
   ]
  },
  {
   "cell_type": "code",
   "execution_count": 11,
   "id": "1aa03b2d-c78b-4651-a7cc-de75dbbc947f",
   "metadata": {},
   "outputs": [
    {
     "name": "stdout",
     "output_type": "stream",
     "text": [
      "x is equal to 5\n"
     ]
    }
   ],
   "source": [
    "x=5\n",
    "if(x>5):\n",
    "    print(\"x is greater than 5\")\n",
    "elif(x<5):\n",
    "    print(\"x is smaller than 5\")\n",
    "elif(x==5):\n",
    "    print(\"x is equal to 5\")\n",
    "else:\n",
    "    print(\"invalid input\")"
   ]
  },
  {
   "cell_type": "code",
   "execution_count": null,
   "id": "a92fb352-d5b9-4110-b000-968b46cc83f7",
   "metadata": {},
   "outputs": [],
   "source": [
    "def sum(a,b=9):\n",
    "    return a+b\\2\n"
   ]
  },
  {
   "cell_type": "code",
   "execution_count": null,
   "id": "796a5032-7bf3-4448-b10f-e32429b27d33",
   "metadata": {},
   "outputs": [],
   "source": []
  }
 ],
 "metadata": {
  "kernelspec": {
   "display_name": "Python 3 (ipykernel)",
   "language": "python",
   "name": "python3"
  },
  "language_info": {
   "codemirror_mode": {
    "name": "ipython",
    "version": 3
   },
   "file_extension": ".py",
   "mimetype": "text/x-python",
   "name": "python",
   "nbconvert_exporter": "python",
   "pygments_lexer": "ipython3",
   "version": "3.12.4"
  }
 },
 "nbformat": 4,
 "nbformat_minor": 5
}
