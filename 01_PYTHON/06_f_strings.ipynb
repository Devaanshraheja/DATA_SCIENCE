{
 "cells": [
  {
   "cell_type": "code",
   "execution_count": 3,
   "id": "5ee7edde-355a-44c0-a52f-52cc2110ed0e",
   "metadata": {},
   "outputs": [
    {
     "ename": "SyntaxError",
     "evalue": "invalid syntax (<ipython-input-3-ddb0880dd968>, line 1)",
     "output_type": "error",
     "traceback": [
      "\u001b[1;36m  File \u001b[1;32m\"<ipython-input-3-ddb0880dd968>\"\u001b[1;36m, line \u001b[1;32m1\u001b[0m\n\u001b[1;33m    printf(f\"{\"Python\":<10}\")#left alighn the word with the width of 10 characters\u001b[0m\n\u001b[1;37m                    ^\u001b[0m\n\u001b[1;31mSyntaxError\u001b[0m\u001b[1;31m:\u001b[0m invalid syntax\n"
     ]
    }
   ],
   "source": [
    "printf(f\"{\"Python\":<10}\")#left alighn the word with the width of 10 characters\n",
    "printf(f\"{\"Devaansh\":>10}\")# right align the word with the width of 10 char\n",
    "print(f\"{\"Rekha\":^10}\")#center align with the char width of 10"
   ]
  },
  {
   "cell_type": "code",
   "execution_count": 18,
   "id": "49fdbeda-25ee-444c-9f46-7faa9482e48f",
   "metadata": {},
   "outputs": [
    {
     "name": "stdout",
     "output_type": "stream",
     "text": [
      "Python    \n",
      "    Python\n",
      "  Python  \n"
     ]
    }
   ],
   "source": [
    "print(f\"{'Python':<10}\")#left alighn the word with the width of 10 characters\n",
    "print(f\"{'Python':>10}\")# right align the word with the width of 10 char\n",
    "print(f\"{'Python':^10}\")#center align with the char width of 10"
   ]
  }
 ],
 "metadata": {
  "kernelspec": {
   "display_name": "Python 3",
   "language": "python",
   "name": "python3"
  },
  "language_info": {
   "codemirror_mode": {
    "name": "ipython",
    "version": 3
   },
   "file_extension": ".py",
   "mimetype": "text/x-python",
   "name": "python",
   "nbconvert_exporter": "python",
   "pygments_lexer": "ipython3",
   "version": "3.6.13"
  }
 },
 "nbformat": 4,
 "nbformat_minor": 5
}
