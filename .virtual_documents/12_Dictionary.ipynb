


d = {}


type(d)


# Dictionary with key-value pairs
student={"name": "Devaansh",
         "profession":"Data Scientist",
         "age":22
        }


student["name"]


r = student.get("name4")


r


print(r)


# Dictionary with key-value pairs
student = {
    "name": "Alice",
    "age": 25,
    "grade": "A"
}


print(student["age"])


student["age"]=45


print(student)


student.keys()


student.values()


student.items()# return the list of tuple


student.update({"name": "Harry","bodycount":12})


student


student.update({"name": "Ruchika", "language": "Python"})


student



