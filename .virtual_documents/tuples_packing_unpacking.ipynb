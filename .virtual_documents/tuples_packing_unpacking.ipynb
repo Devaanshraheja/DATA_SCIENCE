


e = ()


e


type(e)


l = []


type(l)


t = (5, 64, 23, 23)


t


len(t)


t[1]


t[0]


print(t[2])


t[1] = 34 #tuples are immutable 


#packing 
person=("Devaansh","19","Software Engineer")
#unpacking
name, age, profession=person





name


age


profession



